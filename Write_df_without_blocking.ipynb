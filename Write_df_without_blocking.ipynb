{
 "cells": [
  {
   "cell_type": "code",
   "execution_count": 1,
   "id": "f3844845-80cc-463a-a887-239f52e9a5f4",
   "metadata": {},
   "outputs": [],
   "source": [
    "import pandas as pd\n",
    "import dask.dataframe as dd\n",
    "import random\n",
    "import math\n",
    "from pathlib import Path\n",
    "import dask\n",
    "from distributed import Client, futures_of"
   ]
  },
  {
   "cell_type": "code",
   "execution_count": 2,
   "id": "8c08995d-bc30-4056-a205-ce9a14c7dc8e",
   "metadata": {},
   "outputs": [],
   "source": [
    "c = Client()"
   ]
  },
  {
   "cell_type": "code",
   "execution_count": 3,
   "id": "7b454d1f-2b88-42f4-94a9-64abdedab709",
   "metadata": {},
   "outputs": [],
   "source": [
    "df = pd.DataFrame([list(range(1000)), list(range(1000, 2000))]).T\n",
    "df.columns=['a', 'b']\n",
    "ddf = dd.from_pandas(df, npartitions=1)\n",
    "ddf2 = dd.from_pandas(df*2, npartitions=1)"
   ]
  },
  {
   "cell_type": "code",
   "execution_count": 12,
   "id": "0c4d2c9b-d08b-45e3-855f-a11ee17a8d04",
   "metadata": {},
   "outputs": [],
   "source": [
    "written = ddf.to_parquet('scratch3.parquet', compute=False)\n",
    "written2 = ddf2.to_parquet('scratch4.parquet', compute=False)"
   ]
  },
  {
   "cell_type": "code",
   "execution_count": 18,
   "id": "087885cf-4ab3-480e-8475-04bce50c1b1e",
   "metadata": {},
   "outputs": [],
   "source": [
    "written_persisted = dask.persist(written)"
   ]
  },
  {
   "cell_type": "code",
   "execution_count": 19,
   "id": "7cc66c27-2861-497f-bb1b-d8c15a9c7c4e",
   "metadata": {},
   "outputs": [
    {
     "data": {
      "text/plain": [
       "[<Future: finished, type: builtins.NoneType, key: ('metadata-to-parquet-4b536a6ede1edbe52faf81616f080028', 0)>]"
      ]
     },
     "execution_count": 19,
     "metadata": {},
     "output_type": "execute_result"
    }
   ],
   "source": [
    "futures_of(written_persisted)"
   ]
  },
  {
   "cell_type": "code",
   "execution_count": 22,
   "id": "6f084a2c-d81a-431e-b0d6-b24c2f972127",
   "metadata": {},
   "outputs": [
    {
     "data": {
      "text/plain": [
       "[None]"
      ]
     },
     "execution_count": 22,
     "metadata": {},
     "output_type": "execute_result"
    }
   ],
   "source": [
    "c.gather(futures_of(written_persisted))"
   ]
  },
  {
   "cell_type": "code",
   "execution_count": 5,
   "id": "3881fb5e-138d-4158-960d-512084a1d85c",
   "metadata": {},
   "outputs": [
    {
     "data": {
      "text/plain": [
       "(None, None)"
      ]
     },
     "execution_count": 5,
     "metadata": {},
     "output_type": "execute_result"
    }
   ],
   "source": [
    "dask.compute(written, written2)"
   ]
  },
  {
   "cell_type": "code",
   "execution_count": 6,
   "id": "5dfdb29d-98f1-485c-8847-c0747ae0c02e",
   "metadata": {},
   "outputs": [],
   "source": [
    "a = ddf2.persist()"
   ]
  },
  {
   "cell_type": "markdown",
   "id": "53f7c5f0-7686-4908-98fa-654b2b54dfad",
   "metadata": {},
   "source": [
    "# Read dataframes in parallel"
   ]
  },
  {
   "cell_type": "code",
   "execution_count": 23,
   "id": "84023617-1cbc-4a37-9ff3-4cceec89ded9",
   "metadata": {},
   "outputs": [
    {
     "name": "stderr",
     "output_type": "stream",
     "text": [
      "/home/balast/.conda/envs/dask/lib/python3.9/site-packages/distributed/node.py:160: UserWarning: Port 8787 is already in use.\n",
      "Perhaps you already have a cluster running?\n",
      "Hosting the HTTP server on port 38645 instead\n",
      "  warnings.warn(\n"
     ]
    }
   ],
   "source": [
    "c2 = Client()"
   ]
  },
  {
   "cell_type": "code",
   "execution_count": 31,
   "id": "d4625efc-fcd1-440c-8136-b3147cc4d6d5",
   "metadata": {},
   "outputs": [],
   "source": [
    "futures = c.map(dd.read_parquet, ['row_partitioned_trade_files/row_partitioned_trade_file_000.parquet', 'row_partitioned_trade_file.parquet'])"
   ]
  },
  {
   "cell_type": "code",
   "execution_count": 32,
   "id": "25304ec9-03e9-47ac-87a7-a185f7c1fe1f",
   "metadata": {},
   "outputs": [],
   "source": [
    "a,b = c.gather(futures)"
   ]
  },
  {
   "cell_type": "code",
   "execution_count": 36,
   "id": "5b966712-5b4b-4221-8901-6035e1241f4b",
   "metadata": {},
   "outputs": [
    {
     "data": {
      "text/html": [
       "<b>Future: finalize</b> <font style=\"color: var(--jp-ui-font-color2, gray)\">status: </font><font style=\"color: var(--jp-ui-font-color0, black)\">pending</font>, <font style=\"color: var(--jp-ui-font-color2, gray)\">key: </font>finalize-759647b45cef5ae67c914db7c815501d"
      ],
      "text/plain": [
       "<Future: pending, key: finalize-759647b45cef5ae67c914db7c815501d>"
      ]
     },
     "execution_count": 36,
     "metadata": {},
     "output_type": "execute_result"
    }
   ],
   "source": [
    "c2.compute(a)"
   ]
  }
 ],
 "metadata": {
  "kernelspec": {
   "display_name": "Python 3 (ipykernel)",
   "language": "python",
   "name": "python3"
  },
  "language_info": {
   "codemirror_mode": {
    "name": "ipython",
    "version": 3
   },
   "file_extension": ".py",
   "mimetype": "text/x-python",
   "name": "python",
   "nbconvert_exporter": "python",
   "pygments_lexer": "ipython3",
   "version": "3.9.6"
  }
 },
 "nbformat": 4,
 "nbformat_minor": 5
}
