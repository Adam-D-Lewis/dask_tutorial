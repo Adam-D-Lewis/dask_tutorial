{
 "cells": [
  {
   "cell_type": "code",
   "execution_count": 1,
   "id": "9d156283-c5e4-46cc-9997-390555fac782",
   "metadata": {},
   "outputs": [],
   "source": [
    "from distributed import Client, LocalCluster\n",
    "from dask import delayed\n",
    "import dask"
   ]
  },
  {
   "cell_type": "code",
   "execution_count": 2,
   "id": "ec5f7a62-aff5-4855-994f-e4e7a3e2e5c3",
   "metadata": {},
   "outputs": [
    {
     "name": "stderr",
     "output_type": "stream",
     "text": [
      "/home/balast/.conda/envs/dask/lib/python3.9/site-packages/distributed/node.py:160: UserWarning: Port 8787 is already in use.\n",
      "Perhaps you already have a cluster running?\n",
      "Hosting the HTTP server on port 35439 instead\n",
      "  warnings.warn(\n"
     ]
    }
   ],
   "source": [
    "client1 = Client()  # starts a Localcluster automatically\n",
    "client2 = Client()"
   ]
  },
  {
   "cell_type": "code",
   "execution_count": 3,
   "id": "a3c944cc-9fa3-4cfd-b79d-492f86f04457",
   "metadata": {},
   "outputs": [],
   "source": [
    "def execute_sim(arg1, arg2, arg3):\n",
    "    return arg1+arg2+arg3\n",
    "\n",
    "simulation_arg1s = [1, 2, 3, 4]\n",
    "simulation_arg2s = [5, 6, 7, 8]\n",
    "simulation_arg3s = [9, 8, 7, 6]"
   ]
  },
  {
   "cell_type": "markdown",
   "id": "e5e4a79f-cee0-4696-b774-eaf6fb0b4d59",
   "metadata": {},
   "source": [
    "## Futures Example"
   ]
  },
  {
   "cell_type": "code",
   "execution_count": 4,
   "id": "c3ee1792-cb2a-45eb-833a-245dccd629bf",
   "metadata": {},
   "outputs": [
    {
     "data": {
      "text/plain": [
       "[15, 16, 17, 18]"
      ]
     },
     "execution_count": 4,
     "metadata": {},
     "output_type": "execute_result"
    }
   ],
   "source": [
    "futures = client1.map(execute_sim, simulation_arg1s, simulation_arg2s, simulation_arg3s)  # begin computation now\n",
    "\n",
    "results = client1.gather(futures)  # stop execution of this thread until futures are complete\n",
    "results"
   ]
  },
  {
   "cell_type": "markdown",
   "id": "a7492066-d521-4054-b5bc-ebbda4171f6a",
   "metadata": {},
   "source": [
    "## Delayed Example"
   ]
  },
  {
   "cell_type": "code",
   "execution_count": 5,
   "id": "350db52c-3a8c-469a-942d-6cd3b75232ba",
   "metadata": {},
   "outputs": [
    {
     "data": {
      "text/plain": [
       "Delayed('execute_sim-3ad26214-db1b-4b57-8809-0010231f81fd')"
      ]
     },
     "execution_count": 5,
     "metadata": {},
     "output_type": "execute_result"
    }
   ],
   "source": [
    "delayed_execute_sim = delayed(execute_sim)\n",
    "delayed_execute_sim"
   ]
  },
  {
   "cell_type": "code",
   "execution_count": 6,
   "id": "2f26c10b-c6ed-40c3-a4dd-390a77cf4277",
   "metadata": {},
   "outputs": [
    {
     "name": "stdout",
     "output_type": "stream",
     "text": [
      "result is (6,)\n"
     ]
    }
   ],
   "source": [
    "delayed_result = delayed_execute_sim(1,2,3)\n",
    "\n",
    "# get the result \n",
    "result = dask.compute(delayed_result) # begins computation, returns a tuple\n",
    "print(f'result is {result}')"
   ]
  },
  {
   "cell_type": "code",
   "execution_count": 7,
   "id": "b33f99fa-2401-422f-b7d3-9f5b7c50e60e",
   "metadata": {},
   "outputs": [
    {
     "data": {
      "text/plain": [
       "(15, 16, 17, 18)"
      ]
     },
     "execution_count": 7,
     "metadata": {},
     "output_type": "execute_result"
    }
   ],
   "source": [
    "delayed_results = []\n",
    "for arg1, arg2, arg3 in zip(simulation_arg1s, simulation_arg2s, simulation_arg3s):\n",
    "    result = delayed_execute_sim(arg1, arg2, arg3)\n",
    "    delayed_results.append(result)\n",
    "\n",
    "dask.compute(*delayed_results)  # begins computation"
   ]
  },
  {
   "cell_type": "markdown",
   "id": "279d3132-5228-4fa0-a0d3-56526868a6c3",
   "metadata": {},
   "source": [
    "## Run on cluster 1"
   ]
  },
  {
   "cell_type": "code",
   "execution_count": 11,
   "id": "c31bc1d5-526d-416a-9144-6f972bc4888d",
   "metadata": {},
   "outputs": [
    {
     "data": {
      "text/plain": [
       "[15, 16, 17, 18]"
      ]
     },
     "execution_count": 11,
     "metadata": {},
     "output_type": "execute_result"
    }
   ],
   "source": [
    "futures = client1.compute(delayed_results)\n",
    "results = client1.gather(futures)\n",
    "results"
   ]
  },
  {
   "cell_type": "markdown",
   "id": "7c9f43a0-3cf8-4770-b24a-d9e2b2c7924b",
   "metadata": {},
   "source": [
    "## Run on cluster 2"
   ]
  },
  {
   "cell_type": "code",
   "execution_count": 12,
   "id": "33388c52-318a-452f-92fd-ebcaa0886da8",
   "metadata": {},
   "outputs": [
    {
     "data": {
      "text/plain": [
       "[15, 16, 17, 18]"
      ]
     },
     "execution_count": 12,
     "metadata": {},
     "output_type": "execute_result"
    }
   ],
   "source": [
    "futures = client2.compute(delayed_results)\n",
    "results = client2.gather(futures)\n",
    "results"
   ]
  },
  {
   "cell_type": "code",
   "execution_count": 18,
   "id": "4408eabc-1173-4aab-9b48-a295949c1cf6",
   "metadata": {},
   "outputs": [
    {
     "data": {
      "text/plain": [
       "('http://127.0.0.1:8787/status', 'http://127.0.0.1:35439/status')"
      ]
     },
     "execution_count": 18,
     "metadata": {},
     "output_type": "execute_result"
    }
   ],
   "source": [
    "# can see the computation has occurred on both clusters by looking at the dashboards\n",
    "client1.dashboard_link, client2.dashboard_link"
   ]
  }
 ],
 "metadata": {
  "kernelspec": {
   "display_name": "Python 3 (ipykernel)",
   "language": "python",
   "name": "python3"
  },
  "language_info": {
   "codemirror_mode": {
    "name": "ipython",
    "version": 3
   },
   "file_extension": ".py",
   "mimetype": "text/x-python",
   "name": "python",
   "nbconvert_exporter": "python",
   "pygments_lexer": "ipython3",
   "version": "3.9.6"
  }
 },
 "nbformat": 4,
 "nbformat_minor": 5
}
