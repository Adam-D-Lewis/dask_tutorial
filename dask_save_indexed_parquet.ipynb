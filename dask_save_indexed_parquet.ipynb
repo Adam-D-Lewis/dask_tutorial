{
 "cells": [
  {
   "cell_type": "code",
   "execution_count": 1,
   "id": "444f576e-b13d-45f7-8427-0e88c8786fdf",
   "metadata": {},
   "outputs": [],
   "source": [
    "import pandas as pd\n",
    "import dask.dataframe as dd\n",
    "import random\n",
    "from distributed import Client"
   ]
  },
  {
   "cell_type": "code",
   "execution_count": 2,
   "id": "e471b312-3c4a-42f3-8189-09f1eb57a1d2",
   "metadata": {},
   "outputs": [],
   "source": [
    "c = Client()"
   ]
  },
  {
   "cell_type": "code",
   "execution_count": 3,
   "id": "84421ff9-4783-4165-aed0-235907588ba5",
   "metadata": {},
   "outputs": [],
   "source": [
    "all_rows = []\n",
    "for path in range(10):\n",
    "    for date in ['2021-07-01', '2021-10-01', '2022-01-01']:\n",
    "        all_rows.append([date, path, random.random()*200-100]) "
   ]
  },
  {
   "cell_type": "code",
   "execution_count": 4,
   "id": "fd4b1fe7-1375-49ab-b58e-5dc4267abb0c",
   "metadata": {},
   "outputs": [
    {
     "data": {
      "text/plain": [
       "date    datetime64[ns]\n",
       "mtm            float64\n",
       "dtype: object"
      ]
     },
     "metadata": {},
     "output_type": "display_data"
    },
    {
     "data": {
      "text/html": [
       "<div>\n",
       "<style scoped>\n",
       "    .dataframe tbody tr th:only-of-type {\n",
       "        vertical-align: middle;\n",
       "    }\n",
       "\n",
       "    .dataframe tbody tr th {\n",
       "        vertical-align: top;\n",
       "    }\n",
       "\n",
       "    .dataframe thead th {\n",
       "        text-align: right;\n",
       "    }\n",
       "</style>\n",
       "<table border=\"1\" class=\"dataframe\">\n",
       "  <thead>\n",
       "    <tr style=\"text-align: right;\">\n",
       "      <th></th>\n",
       "      <th>date</th>\n",
       "      <th>mtm</th>\n",
       "    </tr>\n",
       "    <tr>\n",
       "      <th>path</th>\n",
       "      <th></th>\n",
       "      <th></th>\n",
       "    </tr>\n",
       "  </thead>\n",
       "  <tbody>\n",
       "    <tr>\n",
       "      <th>0</th>\n",
       "      <td>2021-07-01</td>\n",
       "      <td>22.068791</td>\n",
       "    </tr>\n",
       "    <tr>\n",
       "      <th>0</th>\n",
       "      <td>2021-10-01</td>\n",
       "      <td>92.160839</td>\n",
       "    </tr>\n",
       "    <tr>\n",
       "      <th>0</th>\n",
       "      <td>2022-01-01</td>\n",
       "      <td>58.258004</td>\n",
       "    </tr>\n",
       "    <tr>\n",
       "      <th>1</th>\n",
       "      <td>2021-07-01</td>\n",
       "      <td>-43.255481</td>\n",
       "    </tr>\n",
       "    <tr>\n",
       "      <th>1</th>\n",
       "      <td>2021-10-01</td>\n",
       "      <td>-9.196393</td>\n",
       "    </tr>\n",
       "  </tbody>\n",
       "</table>\n",
       "</div>"
      ],
      "text/plain": [
       "           date        mtm\n",
       "path                      \n",
       "0    2021-07-01  22.068791\n",
       "0    2021-10-01  92.160839\n",
       "0    2022-01-01  58.258004\n",
       "1    2021-07-01 -43.255481\n",
       "1    2021-10-01  -9.196393"
      ]
     },
     "execution_count": 4,
     "metadata": {},
     "output_type": "execute_result"
    }
   ],
   "source": [
    "df = pd.DataFrame(all_rows, columns=['date', 'path', 'mtm']).astype({'path': 'int32', 'mtm': 'float64'}).set_index('path')\n",
    "df.date = pd.to_datetime(df.date)\n",
    "display(df.dtypes)\n",
    "df.head()"
   ]
  },
  {
   "cell_type": "code",
   "execution_count": 5,
   "id": "c6e4acc8-5a14-4dcd-9db7-6b75a8cc5d27",
   "metadata": {},
   "outputs": [
    {
     "data": {
      "text/html": [
       "<div><strong>Dask DataFrame Structure:</strong></div>\n",
       "<div>\n",
       "<style scoped>\n",
       "    .dataframe tbody tr th:only-of-type {\n",
       "        vertical-align: middle;\n",
       "    }\n",
       "\n",
       "    .dataframe tbody tr th {\n",
       "        vertical-align: top;\n",
       "    }\n",
       "\n",
       "    .dataframe thead th {\n",
       "        text-align: right;\n",
       "    }\n",
       "</style>\n",
       "<table border=\"1\" class=\"dataframe\">\n",
       "  <thead>\n",
       "    <tr style=\"text-align: right;\">\n",
       "      <th></th>\n",
       "      <th>date</th>\n",
       "      <th>mtm</th>\n",
       "    </tr>\n",
       "    <tr>\n",
       "      <th>npartitions=3</th>\n",
       "      <th></th>\n",
       "      <th></th>\n",
       "    </tr>\n",
       "  </thead>\n",
       "  <tbody>\n",
       "    <tr>\n",
       "      <th>0</th>\n",
       "      <td>datetime64[ns]</td>\n",
       "      <td>float64</td>\n",
       "    </tr>\n",
       "    <tr>\n",
       "      <th>4</th>\n",
       "      <td>...</td>\n",
       "      <td>...</td>\n",
       "    </tr>\n",
       "    <tr>\n",
       "      <th>7</th>\n",
       "      <td>...</td>\n",
       "      <td>...</td>\n",
       "    </tr>\n",
       "    <tr>\n",
       "      <th>9</th>\n",
       "      <td>...</td>\n",
       "      <td>...</td>\n",
       "    </tr>\n",
       "  </tbody>\n",
       "</table>\n",
       "</div>\n",
       "<div>Dask Name: from_pandas, 3 tasks</div>"
      ],
      "text/plain": [
       "Dask DataFrame Structure:\n",
       "                         date      mtm\n",
       "npartitions=3                         \n",
       "0              datetime64[ns]  float64\n",
       "4                         ...      ...\n",
       "7                         ...      ...\n",
       "9                         ...      ...\n",
       "Dask Name: from_pandas, 3 tasks"
      ]
     },
     "execution_count": 5,
     "metadata": {},
     "output_type": "execute_result"
    }
   ],
   "source": [
    "ddf = dd.from_pandas(df, npartitions=3)\n",
    "ddf"
   ]
  },
  {
   "cell_type": "code",
   "execution_count": 6,
   "id": "f4348ec0-553f-4f97-b706-65838d4124c7",
   "metadata": {},
   "outputs": [],
   "source": [
    "trade_filepath = 'row_partitioned_trade_file.parquet'\n",
    "ddf.to_parquet(trade_filepath)\n",
    "del ddf"
   ]
  },
  {
   "cell_type": "code",
   "execution_count": 15,
   "id": "fd3405a0-b16d-4142-80c8-2bec2a785a4b",
   "metadata": {},
   "outputs": [],
   "source": [
    "ddf = dd.read_parquet(trade_filepath)"
   ]
  },
  {
   "cell_type": "code",
   "execution_count": 13,
   "id": "06733bde-8914-4ee6-97a2-894374f58fbb",
   "metadata": {},
   "outputs": [],
   "source": [
    "a = ddf.persist()"
   ]
  },
  {
   "cell_type": "code",
   "execution_count": 14,
   "id": "27cdfdcb-7f89-4a93-9996-772aebec4109",
   "metadata": {},
   "outputs": [],
   "source": [
    "del a"
   ]
  },
  {
   "cell_type": "code",
   "execution_count": 15,
   "id": "15a2f502-f803-425b-9387-79ee7a775465",
   "metadata": {},
   "outputs": [
    {
     "data": {
      "text/plain": [
       "'0.28125 kb'"
      ]
     },
     "metadata": {},
     "output_type": "display_data"
    },
    {
     "name": "stdout",
     "output_type": "stream",
     "text": [
      "Measured Times:\n",
      "CPU times: user 21.5 ms, sys: 2.04 ms, total: 23.5 ms\n",
      "Wall time: 30.6 ms\n"
     ]
    }
   ],
   "source": [
    "%%time\n",
    "df1 = ddf.loc[0:3, :].compute()\n",
    "display(f'{df1.memory_usage(deep=True).sum()/2**10} kb')\n",
    "print('Measured Times:')"
   ]
  },
  {
   "cell_type": "code",
   "execution_count": 16,
   "id": "8d9b1a67-ee1d-425a-b2c7-74a7dbc0294b",
   "metadata": {},
   "outputs": [
    {
     "data": {
      "text/plain": [
       "'0.4921875 kb'"
      ]
     },
     "metadata": {},
     "output_type": "display_data"
    },
    {
     "name": "stdout",
     "output_type": "stream",
     "text": [
      "Measured Times:\n",
      "CPU times: user 39 ms, sys: 4.39 ms, total: 43.4 ms\n",
      "Wall time: 51.4 ms\n"
     ]
    }
   ],
   "source": [
    "%%time\n",
    "df2 = ddf.loc[0:6, :].compute()\n",
    "display(f'{df2.memory_usage(deep=True).sum()/2**10} kb')\n",
    "print('Measured Times:')"
   ]
  },
  {
   "cell_type": "code",
   "execution_count": 17,
   "id": "cdfbdf12-5511-451e-ac0e-d4632421af06",
   "metadata": {},
   "outputs": [
    {
     "data": {
      "text/plain": [
       "'0.703125 kb'"
      ]
     },
     "metadata": {},
     "output_type": "display_data"
    },
    {
     "name": "stdout",
     "output_type": "stream",
     "text": [
      "Measured Times:\n",
      "CPU times: user 20.3 ms, sys: 2.04 ms, total: 22.3 ms\n",
      "Wall time: 27.4 ms\n"
     ]
    }
   ],
   "source": [
    "%%time\n",
    "df3 = ddf.loc[0:, :].compute()\n",
    "display(f'{df3.memory_usage(deep=True).sum()/2**10} kb')\n",
    "print('Measured Times:')"
   ]
  }
 ],
 "metadata": {
  "kernelspec": {
   "display_name": "Python 3 (ipykernel)",
   "language": "python",
   "name": "python3"
  },
  "language_info": {
   "codemirror_mode": {
    "name": "ipython",
    "version": 3
   },
   "file_extension": ".py",
   "mimetype": "text/x-python",
   "name": "python",
   "nbconvert_exporter": "python",
   "pygments_lexer": "ipython3",
   "version": "3.9.6"
  }
 },
 "nbformat": 4,
 "nbformat_minor": 5
}
