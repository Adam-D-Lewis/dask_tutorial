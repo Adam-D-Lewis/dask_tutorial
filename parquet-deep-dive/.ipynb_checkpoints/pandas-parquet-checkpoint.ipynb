{
 "cells": [
  {
   "cell_type": "markdown",
   "id": "225e7f18-29fb-47fb-bd1d-fd63c644ba67",
   "metadata": {},
   "source": [
    "# This notebook examines the read/write and partitioning structure of pandas"
   ]
  },
  {
   "cell_type": "code",
   "execution_count": 1,
   "id": "a0d0f2d0-90fb-4cf0-8f2f-21cf0c9d606f",
   "metadata": {},
   "outputs": [],
   "source": [
    "import pandas as pd\n",
    "import dask.dataframe as dd\n",
    "import random\n",
    "import math\n",
    "from pathlib import Path\n",
    "import dask\n",
    "from distributed import Client\n",
    "import pyarrow as pa\n",
    "import pyarrow.parquet as pq"
   ]
  },
  {
   "cell_type": "code",
   "execution_count": 2,
   "id": "b2c01e3c-0f34-4fff-b393-82c01a1046bb",
   "metadata": {},
   "outputs": [
    {
     "name": "stderr",
     "output_type": "stream",
     "text": [
      "distributed.diskutils - INFO - Found stale lock file and directory '/home/balast/CodingProjects/dask_tutorials/parquet-deep-dive/dask-worker-space/worker-r5spyf4k', purging\n",
      "distributed.diskutils - INFO - Found stale lock file and directory '/home/balast/CodingProjects/dask_tutorials/parquet-deep-dive/dask-worker-space/worker-cagx6nlk', purging\n",
      "distributed.diskutils - INFO - Found stale lock file and directory '/home/balast/CodingProjects/dask_tutorials/parquet-deep-dive/dask-worker-space/worker-2jt1dykl', purging\n",
      "distributed.diskutils - INFO - Found stale lock file and directory '/home/balast/CodingProjects/dask_tutorials/parquet-deep-dive/dask-worker-space/worker-9g77irot', purging\n",
      "distributed.diskutils - INFO - Found stale lock file and directory '/home/balast/CodingProjects/dask_tutorials/parquet-deep-dive/dask-worker-space/worker-akoe7ckp', purging\n",
      "distributed.diskutils - INFO - Found stale lock file and directory '/home/balast/CodingProjects/dask_tutorials/parquet-deep-dive/dask-worker-space/worker-al1muolv', purging\n"
     ]
    }
   ],
   "source": [
    "c = Client()"
   ]
  },
  {
   "cell_type": "markdown",
   "id": "4ef651be-a572-4abe-bff3-f7543db24ed7",
   "metadata": {},
   "source": [
    "# Generate Trade Files"
   ]
  },
  {
   "cell_type": "code",
   "execution_count": 3,
   "id": "b59a81ae-0e4d-4aff-b451-5bd6639863ae",
   "metadata": {},
   "outputs": [],
   "source": [
    "max_trade_files_per_ns = 200_000\n",
    "n_paths = 50_000\n",
    "n_dates = 120\n",
    "max_paths_per_partition = 50_000 # 10 # 200\n",
    "\n",
    "memory_needed_per_row_gb = 138/1024/6_000_000\n",
    "n_partitions = math.ceil(n_paths/max_paths_per_partition)\n",
    "min_node_memory_needed_gb = (memory_needed_per_row_gb * n_paths * n_dates / n_partitions) * max_trade_files_per_ns"
   ]
  },
  {
   "cell_type": "code",
   "execution_count": 4,
   "id": "ad75e99d-1272-4567-a541-d5a57466dfbb",
   "metadata": {},
   "outputs": [
    {
     "data": {
      "text/plain": [
       "26953.125"
      ]
     },
     "execution_count": 4,
     "metadata": {},
     "output_type": "execute_result"
    }
   ],
   "source": [
    "min_node_memory_needed_gb"
   ]
  },
  {
   "cell_type": "code",
   "execution_count": 5,
   "id": "4c29bd8e-7661-4e27-9ac2-9214838411e9",
   "metadata": {},
   "outputs": [],
   "source": [
    "all_rows = []\n",
    "n_files_to_create = 1\n",
    "trade_folder = './datasets'"
   ]
  },
  {
   "cell_type": "code",
   "execution_count": 6,
   "id": "3ab95182-8270-4401-84a7-6634020c95d7",
   "metadata": {},
   "outputs": [
    {
     "name": "stdout",
     "output_type": "stream",
     "text": [
      "Creating File 000\n"
     ]
    }
   ],
   "source": [
    "dates = pd.date_range(\"2021-07-01\", freq=\"3M\", periods=n_dates)\n",
    "for file_no in range(n_files_to_create):\n",
    "    print(f'Creating File {file_no:03d}')\n",
    "    for path in range(n_paths):\n",
    "        for date in dates:\n",
    "            all_rows.append([date, path, random.random()*200-100]) \n",
    "    \n",
    "    df = pd.DataFrame(all_rows, columns=['date', 'path', 'mtm']).astype({'path': 'int32', 'mtm': 'float64'}).set_index('path')\n",
    "    df.date = pd.to_datetime(df.date)\n",
    "    ddf = dd.from_pandas(df, npartitions=n_partitions)\n",
    "    trade_filepath = f'{trade_folder}/row_partitioned_trade_file_{file_no:03d}.parquet'\n",
    "    ddf.to_parquet(trade_filepath, row_group_size=100_000)"
   ]
  },
  {
   "cell_type": "code",
   "execution_count": 7,
   "id": "8289d9fb-1b45-4c77-9980-5f2cb27135ab",
   "metadata": {},
   "outputs": [
    {
     "data": {
      "text/plain": [
       "[PosixPath('datasets/row_partitioned_trade_file_000.parquet')]"
      ]
     },
     "execution_count": 7,
     "metadata": {},
     "output_type": "execute_result"
    }
   ],
   "source": [
    "files = sorted(list(Path(trade_folder).glob('*.parquet')))\n",
    "files"
   ]
  },
  {
   "cell_type": "code",
   "execution_count": 8,
   "id": "142a8e74-3c2a-4482-9aad-3bb547a4ab86",
   "metadata": {},
   "outputs": [
    {
     "data": {
      "text/html": [
       "<div>\n",
       "<style scoped>\n",
       "    .dataframe tbody tr th:only-of-type {\n",
       "        vertical-align: middle;\n",
       "    }\n",
       "\n",
       "    .dataframe tbody tr th {\n",
       "        vertical-align: top;\n",
       "    }\n",
       "\n",
       "    .dataframe thead th {\n",
       "        text-align: right;\n",
       "    }\n",
       "</style>\n",
       "<table border=\"1\" class=\"dataframe\">\n",
       "  <thead>\n",
       "    <tr style=\"text-align: right;\">\n",
       "      <th></th>\n",
       "      <th>date</th>\n",
       "      <th>mtm</th>\n",
       "    </tr>\n",
       "    <tr>\n",
       "      <th>path</th>\n",
       "      <th></th>\n",
       "      <th></th>\n",
       "    </tr>\n",
       "  </thead>\n",
       "  <tbody>\n",
       "    <tr>\n",
       "      <th>0</th>\n",
       "      <td>2021-07-31</td>\n",
       "      <td>-99.385774</td>\n",
       "    </tr>\n",
       "    <tr>\n",
       "      <th>0</th>\n",
       "      <td>2021-10-31</td>\n",
       "      <td>-53.502609</td>\n",
       "    </tr>\n",
       "    <tr>\n",
       "      <th>0</th>\n",
       "      <td>2022-01-31</td>\n",
       "      <td>-19.935643</td>\n",
       "    </tr>\n",
       "    <tr>\n",
       "      <th>0</th>\n",
       "      <td>2022-04-30</td>\n",
       "      <td>56.063653</td>\n",
       "    </tr>\n",
       "    <tr>\n",
       "      <th>0</th>\n",
       "      <td>2022-07-31</td>\n",
       "      <td>45.101285</td>\n",
       "    </tr>\n",
       "    <tr>\n",
       "      <th>...</th>\n",
       "      <td>...</td>\n",
       "      <td>...</td>\n",
       "    </tr>\n",
       "    <tr>\n",
       "      <th>49999</th>\n",
       "      <td>2050-04-30</td>\n",
       "      <td>94.758407</td>\n",
       "    </tr>\n",
       "    <tr>\n",
       "      <th>49999</th>\n",
       "      <td>2050-07-31</td>\n",
       "      <td>4.889392</td>\n",
       "    </tr>\n",
       "    <tr>\n",
       "      <th>49999</th>\n",
       "      <td>2050-10-31</td>\n",
       "      <td>65.939211</td>\n",
       "    </tr>\n",
       "    <tr>\n",
       "      <th>49999</th>\n",
       "      <td>2051-01-31</td>\n",
       "      <td>64.454633</td>\n",
       "    </tr>\n",
       "    <tr>\n",
       "      <th>49999</th>\n",
       "      <td>2051-04-30</td>\n",
       "      <td>-25.487545</td>\n",
       "    </tr>\n",
       "  </tbody>\n",
       "</table>\n",
       "<p>6000000 rows × 2 columns</p>\n",
       "</div>"
      ],
      "text/plain": [
       "            date        mtm\n",
       "path                       \n",
       "0     2021-07-31 -99.385774\n",
       "0     2021-10-31 -53.502609\n",
       "0     2022-01-31 -19.935643\n",
       "0     2022-04-30  56.063653\n",
       "0     2022-07-31  45.101285\n",
       "...          ...        ...\n",
       "49999 2050-04-30  94.758407\n",
       "49999 2050-07-31   4.889392\n",
       "49999 2050-10-31  65.939211\n",
       "49999 2051-01-31  64.454633\n",
       "49999 2051-04-30 -25.487545\n",
       "\n",
       "[6000000 rows x 2 columns]"
      ]
     },
     "execution_count": 8,
     "metadata": {},
     "output_type": "execute_result"
    }
   ],
   "source": [
    "pd.read_parquet(files[0])"
   ]
  },
  {
   "cell_type": "code",
   "execution_count": 19,
   "id": "e1664f08-8946-4f4a-9a8c-f21f5caf261a",
   "metadata": {},
   "outputs": [],
   "source": [
    "table = pq.ParquetFile(files[0] / 'part.0.parquet')"
   ]
  },
  {
   "cell_type": "code",
   "execution_count": 20,
   "id": "75311e7e-c1cb-4ac0-ac07-0e731fa53926",
   "metadata": {},
   "outputs": [
    {
     "data": {
      "text/plain": [
       "<pyarrow._parquet.FileMetaData object at 0x7f7708035270>\n",
       "  created_by: parquet-cpp-arrow version 5.0.0\n",
       "  num_columns: 3\n",
       "  num_rows: 6000000\n",
       "  num_row_groups: 1\n",
       "  format_version: 1.0\n",
       "  serialized_size: 2264"
      ]
     },
     "execution_count": 20,
     "metadata": {},
     "output_type": "execute_result"
    }
   ],
   "source": [
    "table.metadata"
   ]
  },
  {
   "cell_type": "code",
   "execution_count": null,
   "id": "3ef7a049-cd0c-4c3f-97e9-65b36b89d08a",
   "metadata": {},
   "outputs": [],
   "source": []
  }
 ],
 "metadata": {
  "kernelspec": {
   "display_name": "Python 3 (ipykernel)",
   "language": "python",
   "name": "python3"
  },
  "language_info": {
   "codemirror_mode": {
    "name": "ipython",
    "version": 3
   },
   "file_extension": ".py",
   "mimetype": "text/x-python",
   "name": "python",
   "nbconvert_exporter": "python",
   "pygments_lexer": "ipython3",
   "version": "3.9.6"
  }
 },
 "nbformat": 4,
 "nbformat_minor": 5
}
