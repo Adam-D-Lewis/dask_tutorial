{
 "cells": [
  {
   "cell_type": "code",
   "execution_count": 40,
   "id": "cd22be7a-7d39-496a-b1ac-9ac88aec1e80",
   "metadata": {},
   "outputs": [
    {
     "name": "stderr",
     "output_type": "stream",
     "text": [
      "/home/balast/.conda/envs/dask/lib/python3.9/site-packages/distributed/node.py:160: UserWarning: Port 8787 is already in use.\n",
      "Perhaps you already have a cluster running?\n",
      "Hosting the HTTP server on port 42941 instead\n",
      "  warnings.warn(\n"
     ]
    }
   ],
   "source": [
    "from dask.distributed import Client\n",
    "from dask import delayed\n",
    "import time\n",
    "\n",
    "client = Client(n_workers=1, threads_per_worker=1)  # start local workers as processes"
   ]
  },
  {
   "cell_type": "code",
   "execution_count": 41,
   "id": "bee47149-5cf8-442b-a29f-8a10f375dc2c",
   "metadata": {},
   "outputs": [],
   "source": [
    "def inc(x):\n",
    "    time.sleep(2)\n",
    "    return x + 1\n",
    "\n",
    "inc_delayed = delayed(inc)"
   ]
  },
  {
   "cell_type": "code",
   "execution_count": 42,
   "id": "deca0468-d853-4fc8-9d29-3d7d946d9bc4",
   "metadata": {},
   "outputs": [],
   "source": [
    "delayed_list = []\n",
    "for i in range(10):\n",
    "    delayed_list.append(inc_delayed(i))"
   ]
  },
  {
   "cell_type": "code",
   "execution_count": 44,
   "id": "4d3fdeb1-1539-4aa9-9616-4c5d0e1c12d5",
   "metadata": {},
   "outputs": [],
   "source": [
    "futures_list = client.compute(delayed_list)\n",
    "for future in futures_list[1:]:\n",
    "    future.cancel()"
   ]
  },
  {
   "cell_type": "code",
   "execution_count": 47,
   "id": "2f008c41-47b3-4db8-9345-231b63a7f356",
   "metadata": {},
   "outputs": [
    {
     "data": {
      "text/plain": [
       "[<Future: finished, type: builtins.int, key: inc-97c26bb9-a83c-4efc-a148-cd393d83c0e8>,\n",
       " <Future: cancelled, key: inc-a49a4114-cdf5-4a34-8ea5-1a45928822d7>,\n",
       " <Future: cancelled, key: inc-5e6879d4-ccd1-494c-b324-3b2cea945cd4>,\n",
       " <Future: cancelled, key: inc-a0ffaa7b-b474-4a2d-b1c4-058911b85f8c>,\n",
       " <Future: cancelled, key: inc-23e5dc6c-83aa-4b0a-b184-ab5206461630>,\n",
       " <Future: cancelled, key: inc-13fea6a2-6f39-46aa-909a-e6054ca1657d>,\n",
       " <Future: cancelled, key: inc-c57d1812-dd3e-4f43-acbc-e6e91609fa6e>,\n",
       " <Future: cancelled, key: inc-ae50f71d-6d1d-49bf-810e-bbd338d0a663>,\n",
       " <Future: cancelled, key: inc-876147e3-f104-4bd3-bbe0-34ab3dfc17b1>,\n",
       " <Future: cancelled, key: inc-2e5bc932-b088-47e2-b0aa-0424e6c96364>]"
      ]
     },
     "execution_count": 47,
     "metadata": {},
     "output_type": "execute_result"
    }
   ],
   "source": [
    "futures_list"
   ]
  },
  {
   "cell_type": "code",
   "execution_count": 48,
   "id": "768abf8d-2aed-4ec9-96d4-4e02782bf306",
   "metadata": {},
   "outputs": [],
   "source": [
    "new_futures_list = client.compute(delayed_list[1:])"
   ]
  },
  {
   "cell_type": "code",
   "execution_count": 57,
   "id": "c82a664e-d9c3-444f-8b2e-5346ead7a9b1",
   "metadata": {},
   "outputs": [
    {
     "data": {
      "text/plain": [
       "[<Future: finished, type: builtins.int, key: inc-a49a4114-cdf5-4a34-8ea5-1a45928822d7>,\n",
       " <Future: finished, type: builtins.int, key: inc-5e6879d4-ccd1-494c-b324-3b2cea945cd4>,\n",
       " <Future: finished, type: builtins.int, key: inc-a0ffaa7b-b474-4a2d-b1c4-058911b85f8c>,\n",
       " <Future: finished, type: builtins.int, key: inc-23e5dc6c-83aa-4b0a-b184-ab5206461630>,\n",
       " <Future: finished, type: builtins.int, key: inc-13fea6a2-6f39-46aa-909a-e6054ca1657d>,\n",
       " <Future: pending, key: inc-c57d1812-dd3e-4f43-acbc-e6e91609fa6e>,\n",
       " <Future: finished, type: builtins.int, key: inc-ae50f71d-6d1d-49bf-810e-bbd338d0a663>,\n",
       " <Future: finished, type: builtins.int, key: inc-876147e3-f104-4bd3-bbe0-34ab3dfc17b1>,\n",
       " <Future: finished, type: builtins.int, key: inc-2e5bc932-b088-47e2-b0aa-0424e6c96364>]"
      ]
     },
     "execution_count": 57,
     "metadata": {},
     "output_type": "execute_result"
    }
   ],
   "source": [
    "new_futures_list"
   ]
  },
  {
   "cell_type": "code",
   "execution_count": 41,
   "id": "89734b2e-d92d-4268-805c-4f3cce72c8ba",
   "metadata": {},
   "outputs": [],
   "source": [
    "futures = client.map(inc, range(10))  \n",
    "for future in futures[1:]:\n",
    "    future.cancel()"
   ]
  },
  {
   "cell_type": "code",
   "execution_count": 38,
   "id": "19a3110f-673d-422a-8b22-3c3640d708ba",
   "metadata": {},
   "outputs": [
    {
     "data": {
      "text/plain": [
       "[<Future: finished, type: builtins.int, key: inc-246037413907f572868c21af7421c415>,\n",
       " <Future: cancelled, key: inc-c01fd6f370ef2955e17bdbb80c03fb26>,\n",
       " <Future: cancelled, key: inc-83422a832d308b30f06c8d5e89081507>,\n",
       " <Future: cancelled, key: inc-5b978daf2aab3710457a957738589bbe>,\n",
       " <Future: cancelled, key: inc-4f8d0a8eaa13d33432e7c7d87eb1438b>,\n",
       " <Future: cancelled, key: inc-2ef8e1e33c361e5eba35acd4fc7a516a>,\n",
       " <Future: cancelled, key: inc-59a3e8be2f513a15129a3fa72635d1cf>,\n",
       " <Future: cancelled, key: inc-82b986538ecbe327c9af885cf60ee010>,\n",
       " <Future: cancelled, key: inc-0b14932dc03789f8580cf2fb103447a2>,\n",
       " <Future: cancelled, key: inc-10540e6eb7067ec07b7862b9ed0ee850>]"
      ]
     },
     "execution_count": 38,
     "metadata": {},
     "output_type": "execute_result"
    }
   ],
   "source": [
    "futures"
   ]
  },
  {
   "cell_type": "code",
   "execution_count": 61,
   "id": "193b0de4-e657-4289-a506-d4e6b856a453",
   "metadata": {
    "tags": []
   },
   "outputs": [
    {
     "data": {
      "text/plain": [
       "\u001b[0;31mSignature:\u001b[0m \u001b[0mclient\u001b[0m\u001b[0;34m.\u001b[0m\u001b[0mretry\u001b[0m\u001b[0;34m(\u001b[0m\u001b[0mfutures\u001b[0m\u001b[0;34m,\u001b[0m \u001b[0masynchronous\u001b[0m\u001b[0;34m=\u001b[0m\u001b[0;32mNone\u001b[0m\u001b[0;34m)\u001b[0m\u001b[0;34m\u001b[0m\u001b[0;34m\u001b[0m\u001b[0m\n",
       "\u001b[0;31mDocstring:\u001b[0m\n",
       "Retry failed futures\n",
       "\n",
       "Parameters\n",
       "----------\n",
       "futures : list of Futures\n",
       "\u001b[0;31mFile:\u001b[0m      ~/.conda/envs/dask/lib/python3.9/site-packages/distributed/client.py\n",
       "\u001b[0;31mType:\u001b[0m      method\n"
      ]
     },
     "metadata": {},
     "output_type": "display_data"
    }
   ],
   "source": [
    "# (futures[1:])\n",
    "client.retry?"
   ]
  },
  {
   "cell_type": "code",
   "execution_count": null,
   "id": "fa6d018d-39d8-4234-ae9a-d6aa6c31506e",
   "metadata": {},
   "outputs": [],
   "source": []
  }
 ],
 "metadata": {
  "kernelspec": {
   "display_name": "Python 3 (ipykernel)",
   "language": "python",
   "name": "python3"
  },
  "language_info": {
   "codemirror_mode": {
    "name": "ipython",
    "version": 3
   },
   "file_extension": ".py",
   "mimetype": "text/x-python",
   "name": "python",
   "nbconvert_exporter": "python",
   "pygments_lexer": "ipython3",
   "version": "3.9.6"
  }
 },
 "nbformat": 4,
 "nbformat_minor": 5
}
